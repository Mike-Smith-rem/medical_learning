{
 "cells": [
  {
   "cell_type": "code",
   "execution_count": 1,
   "id": "initial_id",
   "metadata": {
    "collapsed": true,
    "ExecuteTime": {
     "end_time": "2024-03-27T03:55:26.811246Z",
     "start_time": "2024-03-27T03:55:11.506873Z"
    }
   },
   "outputs": [],
   "source": [
    "import torch\n",
    "from torch import nn\n",
    "from torchvision.models import resnet101"
   ]
  },
  {
   "cell_type": "markdown",
   "source": [
    "### 添加数据集cifar"
   ],
   "metadata": {
    "collapsed": false
   },
   "id": "f5e87d207a144d8c"
  },
  {
   "cell_type": "code",
   "execution_count": 7,
   "outputs": [
    {
     "name": "stdout",
     "output_type": "stream",
     "text": [
      "Downloading https://www.cs.toronto.edu/~kriz/cifar-10-python.tar.gz to ../../dataset/cifar-10-python.tar.gz\n"
     ]
    },
    {
     "name": "stderr",
     "output_type": "stream",
     "text": [
      "100%|██████████| 170498071/170498071 [00:13<00:00, 12736563.15it/s]\n"
     ]
    },
    {
     "name": "stdout",
     "output_type": "stream",
     "text": [
      "Extracting ../../dataset/cifar-10-python.tar.gz to ../../dataset\n",
      "Files already downloaded and verified\n"
     ]
    }
   ],
   "source": [
    "import torchvision\n",
    "import os\n",
    "\n",
    "# if the process of load failed, use the code below\n",
    "import ssl\n",
    "ssl._create_default_https_context = ssl._create_unverified_context\n",
    "\n",
    "\n",
    "root_path = os.path.join(\"../../dataset\")\n",
    "train_dataset = torchvision.datasets.CIFAR10(root=root_path, train=True, download=True, transform=None)\n",
    "test_dataset = torchvision.datasets.CIFAR10(root=root_path, train=False, download=True, transform=None)"
   ],
   "metadata": {
    "collapsed": false,
    "ExecuteTime": {
     "end_time": "2024-03-27T04:02:06.252197Z",
     "start_time": "2024-03-27T04:01:48.506231Z"
    }
   },
   "id": "3a07b606b1cdaf6e"
  },
  {
   "cell_type": "markdown",
   "source": [
    "查看加载的图像"
   ],
   "metadata": {
    "collapsed": false
   },
   "id": "d853811351d735e3"
  },
  {
   "cell_type": "code",
   "execution_count": 13,
   "outputs": [
    {
     "name": "stdout",
     "output_type": "stream",
     "text": [
      "(32, 32, 3)\n"
     ]
    },
    {
     "data": {
      "text/plain": "<Figure size 640x480 with 1 Axes>",
      "image/png": "[encoded data removed]"
     },
     "metadata": {},
     "output_type": "display_data"
    },
    {
     "name": "stdout",
     "output_type": "stream",
     "text": [
      "(32, 32, 3)\n"
     ]
    },
    {
     "data": {
      "text/plain": "<Figure size 640x480 with 1 Axes>",
      "image/png": "[encoded data removed]"
     },
     "metadata": {},
     "output_type": "display_data"
    },
    {
     "name": "stdout",
     "output_type": "stream",
     "text": [
      "(32, 32, 3)\n"
     ]
    },
    {
     "data": {
      "text/plain": "<Figure size 640x480 with 1 Axes>",
      "image/png": "[encoded data removed]"
     },
     "metadata": {},
     "output_type": "display_data"
    }
   ],
   "source": [
    "from PIL import Image\n",
    "import numpy as np\n",
    "from matplotlib import pyplot as plt\n",
    "num_pictures = 3\n",
    "for i in range(num_pictures):\n",
    "    img, label = train_dataset.__getitem__(i)\n",
    "    # print(type(img)) # the image is pil image\n",
    "    # print(label)  # the label is a int\n",
    "    print(np.array(img).shape)\n",
    "    plt.imshow(img)\n",
    "    plt.axis('off')  # 关闭坐标轴\n",
    "    plt.show()"
   ],
   "metadata": {
    "collapsed": false,
    "ExecuteTime": {
     "end_time": "2024-03-27T04:11:07.843948Z",
     "start_time": "2024-03-27T04:11:07.724371Z"
    }
   },
   "id": "c12e96bcfd8e9a4c"
  },
  {
   "cell_type": "markdown",
   "source": [
    "加载预训练模型; 先查看网络结构"
   ],
   "metadata": {
    "collapsed": false
   },
   "id": "8d6424dc49c92805"
  },
  {
   "cell_type": "code",
   "execution_count": 45,
   "outputs": [
    {
     "name": "stderr",
     "output_type": "stream",
     "text": [
      "/Library/Frameworks/Python.framework/Versions/3.9/lib/python3.9/site-packages/torchvision/models/_utils.py:223: UserWarning: Arguments other than a weight enum or `None` for 'weights' are deprecated since 0.13 and may be removed in the future. The current behavior is equivalent to passing `weights=ResNet18_Weights.IMAGENET1K_V1`. You can also use `weights=ResNet18_Weights.DEFAULT` to get the most up-to-date weights.\n",
      "  warnings.warn(msg)\n",
      "Downloading: \"https://download.pytorch.org/models/resnet18-f37072fd.pth\" to /Users/lintiansheng/.cache/torch/hub/checkpoints/resnet18-f37072fd.pth\n",
      "100%|██████████| 44.7M/44.7M [00:03<00:00, 12.5MB/s]\n"
     ]
    },
    {
     "name": "stdout",
     "output_type": "stream",
     "text": [
      "<generator object Module.children at 0x7fe9601dbeb0>\n"
     ]
    }
   ],
   "source": [
    "from torchvision.models import resnet18\n",
    "resnet = resnet18(pretrained=True)\n",
    "# the method children returns a generator containing all the layers, and use list mothods\n",
    "print(resnet.children())"
   ],
   "metadata": {
    "collapsed": false,
    "ExecuteTime": {
     "end_time": "2024-03-27T07:24:29.207137Z",
     "start_time": "2024-03-27T07:24:24.517543Z"
    }
   },
   "id": "e4b4fd61e9ad5770"
  },
  {
   "cell_type": "code",
   "execution_count": 46,
   "outputs": [
    {
     "data": {
      "text/plain": "Sequential(\n  (0): Conv2d(3, 64, kernel_size=(7, 7), stride=(2, 2), padding=(3, 3), bias=False)\n  (1): BatchNorm2d(64, eps=1e-05, momentum=0.1, affine=True, track_running_stats=True)\n  (2): ReLU(inplace=True)\n  (3): MaxPool2d(kernel_size=3, stride=2, padding=1, dilation=1, ceil_mode=False)\n  (4): Sequential(\n    (0): BasicBlock(\n      (conv1): Conv2d(64, 64, kernel_size=(3, 3), stride=(1, 1), padding=(1, 1), bias=False)\n      (bn1): BatchNorm2d(64, eps=1e-05, momentum=0.1, affine=True, track_running_stats=True)\n      (relu): ReLU(inplace=True)\n      (conv2): Conv2d(64, 64, kernel_size=(3, 3), stride=(1, 1), padding=(1, 1), bias=False)\n      (bn2): BatchNorm2d(64, eps=1e-05, momentum=0.1, affine=True, track_running_stats=True)\n    )\n    (1): BasicBlock(\n      (conv1): Conv2d(64, 64, kernel_size=(3, 3), stride=(1, 1), padding=(1, 1), bias=False)\n      (bn1): BatchNorm2d(64, eps=1e-05, momentum=0.1, affine=True, track_running_stats=True)\n      (relu): ReLU(inplace=True)\n      (conv2): Conv2d(64, 64, kernel_size=(3, 3), stride=(1, 1), padding=(1, 1), bias=False)\n      (bn2): BatchNorm2d(64, eps=1e-05, momentum=0.1, affine=True, track_running_stats=True)\n    )\n  )\n  (5): Sequential(\n    (0): BasicBlock(\n      (conv1): Conv2d(64, 128, kernel_size=(3, 3), stride=(2, 2), padding=(1, 1), bias=False)\n      (bn1): BatchNorm2d(128, eps=1e-05, momentum=0.1, affine=True, track_running_stats=True)\n      (relu): ReLU(inplace=True)\n      (conv2): Conv2d(128, 128, kernel_size=(3, 3), stride=(1, 1), padding=(1, 1), bias=False)\n      (bn2): BatchNorm2d(128, eps=1e-05, momentum=0.1, affine=True, track_running_stats=True)\n      (downsample): Sequential(\n        (0): Conv2d(64, 128, kernel_size=(1, 1), stride=(2, 2), bias=False)\n        (1): BatchNorm2d(128, eps=1e-05, momentum=0.1, affine=True, track_running_stats=True)\n      )\n    )\n    (1): BasicBlock(\n      (conv1): Conv2d(128, 128, kernel_size=(3, 3), stride=(1, 1), padding=(1, 1), bias=False)\n      (bn1): BatchNorm2d(128, eps=1e-05, momentum=0.1, affine=True, track_running_stats=True)\n      (relu): ReLU(inplace=True)\n      (conv2): Conv2d(128, 128, kernel_size=(3, 3), stride=(1, 1), padding=(1, 1), bias=False)\n      (bn2): BatchNorm2d(128, eps=1e-05, momentum=0.1, affine=True, track_running_stats=True)\n    )\n  )\n  (6): Sequential(\n    (0): BasicBlock(\n      (conv1): Conv2d(128, 256, kernel_size=(3, 3), stride=(2, 2), padding=(1, 1), bias=False)\n      (bn1): BatchNorm2d(256, eps=1e-05, momentum=0.1, affine=True, track_running_stats=True)\n      (relu): ReLU(inplace=True)\n      (conv2): Conv2d(256, 256, kernel_size=(3, 3), stride=(1, 1), padding=(1, 1), bias=False)\n      (bn2): BatchNorm2d(256, eps=1e-05, momentum=0.1, affine=True, track_running_stats=True)\n      (downsample): Sequential(\n        (0): Conv2d(128, 256, kernel_size=(1, 1), stride=(2, 2), bias=False)\n        (1): BatchNorm2d(256, eps=1e-05, momentum=0.1, affine=True, track_running_stats=True)\n      )\n    )\n    (1): BasicBlock(\n      (conv1): Conv2d(256, 256, kernel_size=(3, 3), stride=(1, 1), padding=(1, 1), bias=False)\n      (bn1): BatchNorm2d(256, eps=1e-05, momentum=0.1, affine=True, track_running_stats=True)\n      (relu): ReLU(inplace=True)\n      (conv2): Conv2d(256, 256, kernel_size=(3, 3), stride=(1, 1), padding=(1, 1), bias=False)\n      (bn2): BatchNorm2d(256, eps=1e-05, momentum=0.1, affine=True, track_running_stats=True)\n    )\n  )\n  (7): Sequential(\n    (0): BasicBlock(\n      (conv1): Conv2d(256, 512, kernel_size=(3, 3), stride=(2, 2), padding=(1, 1), bias=False)\n      (bn1): BatchNorm2d(512, eps=1e-05, momentum=0.1, affine=True, track_running_stats=True)\n      (relu): ReLU(inplace=True)\n      (conv2): Conv2d(512, 512, kernel_size=(3, 3), stride=(1, 1), padding=(1, 1), bias=False)\n      (bn2): BatchNorm2d(512, eps=1e-05, momentum=0.1, affine=True, track_running_stats=True)\n      (downsample): Sequential(\n        (0): Conv2d(256, 512, kernel_size=(1, 1), stride=(2, 2), bias=False)\n        (1): BatchNorm2d(512, eps=1e-05, momentum=0.1, affine=True, track_running_stats=True)\n      )\n    )\n    (1): BasicBlock(\n      (conv1): Conv2d(512, 512, kernel_size=(3, 3), stride=(1, 1), padding=(1, 1), bias=False)\n      (bn1): BatchNorm2d(512, eps=1e-05, momentum=0.1, affine=True, track_running_stats=True)\n      (relu): ReLU(inplace=True)\n      (conv2): Conv2d(512, 512, kernel_size=(3, 3), stride=(1, 1), padding=(1, 1), bias=False)\n      (bn2): BatchNorm2d(512, eps=1e-05, momentum=0.1, affine=True, track_running_stats=True)\n    )\n  )\n)"
     },
     "execution_count": 46,
     "metadata": {},
     "output_type": "execute_result"
    }
   ],
   "source": [
    "import torch.nn as nn\n",
    "num_features_in = resnet.fc.in_features\n",
    "cifar_10_class = {0: 'airplane', 1: 'automobile', 2: 'bird', 3: 'cat', 4: 'deer', 5: 'dog', 6: 'frog', 7: 'horse', 8: 'ship', 9: 'truck'}\n",
    "resnet.fc = nn.Linear(num_features_in, len(cifar_10_class))\n",
    "\n",
    "resnet_forward_features = nn.Sequential(*list(resnet.children())[:-2])\n",
    "fc_weights = resnet.state_dict()['fc.weight'].numpy()\n",
    "resnet.eval()\n",
    "resnet_forward_features.eval()"
   ],
   "metadata": {
    "collapsed": false,
    "ExecuteTime": {
     "end_time": "2024-03-27T07:24:43.390140Z",
     "start_time": "2024-03-27T07:24:43.374248Z"
    }
   },
   "id": "7bdb8925977c0bb5"
  },
  {
   "cell_type": "code",
   "execution_count": 47,
   "outputs": [],
   "source": [],
   "metadata": {
    "collapsed": false,
    "ExecuteTime": {
     "end_time": "2024-03-27T07:25:57.504589Z",
     "start_time": "2024-03-27T07:25:57.495985Z"
    }
   },
   "id": "73bc15377aa1973b"
  },
  {
   "cell_type": "code",
   "execution_count": 48,
   "outputs": [
    {
     "name": "stdout",
     "output_type": "stream",
     "text": [
      "tensor([[[[ 59.,  16.,  25.,  ..., 208., 180., 177.],\n",
      "          [ 43.,   0.,  16.,  ..., 201., 173., 168.],\n",
      "          [ 50.,  18.,  49.,  ..., 198., 186., 179.],\n",
      "          ...,\n",
      "          [158., 123., 118.,  ..., 160., 184., 216.],\n",
      "          [152., 119., 120.,  ...,  56.,  97., 151.],\n",
      "          [148., 122., 109.,  ...,  53.,  83., 123.]],\n",
      "\n",
      "         [[ 62.,  20.,  24.,  ..., 170., 139., 144.],\n",
      "          [ 46.,   0.,   7.,  ..., 153., 123., 129.],\n",
      "          [ 48.,   8.,  27.,  ..., 161., 144., 142.],\n",
      "          ...,\n",
      "          [132.,  88.,  84.,  ..., 133., 148., 184.],\n",
      "          [125.,  83.,  84.,  ...,  31.,  62., 118.],\n",
      "          [124.,  87.,  73.,  ...,  34.,  53.,  92.]],\n",
      "\n",
      "         [[ 63.,  20.,  21.,  ...,  96.,  96., 116.],\n",
      "          [ 45.,   0.,   0.,  ...,  34.,  42.,  94.],\n",
      "          [ 43.,   0.,   8.,  ...,  26.,  30.,  87.],\n",
      "          ...,\n",
      "          [108.,  55.,  50.,  ...,  70.,  94., 140.],\n",
      "          [102.,  50.,  50.,  ...,   7.,  34.,  84.],\n",
      "          [103.,  57.,  42.,  ...,  20.,  34.,  72.]]]])\n",
      "torch.Size([1, 3, 32, 32])\n"
     ]
    }
   ],
   "source": [
    "img, label = train_dataset.__getitem__(0)\n",
    "img_tensor = torch.tensor(np.array(img), dtype=torch.float)\n",
    "img_tensor = torch.transpose(img_tensor, 2, 0).contiguous()\n",
    "img_tensor = img_tensor.unsqueeze(dim=0)\n",
    "print(img_tensor)\n",
    "print(img_tensor.shape)"
   ],
   "metadata": {
    "collapsed": false,
    "ExecuteTime": {
     "end_time": "2024-03-27T07:26:00.251499Z",
     "start_time": "2024-03-27T07:26:00.228280Z"
    }
   },
   "id": "e94b9728ec0aca03"
  },
  {
   "cell_type": "code",
   "execution_count": 57,
   "outputs": [
    {
     "name": "stdout",
     "output_type": "stream",
     "text": [
      "torch.Size([1, 512, 1, 1])\n",
      "tensor([5.8666e-11, 4.0247e-13, 2.6622e-14, 5.8674e-12, 1.8745e-17, 3.0357e-20,\n",
      "        2.7105e-14, 1.0000e+00, 5.7193e-12, 4.0362e-13])\n"
     ]
    }
   ],
   "source": [
    "img_features = resnet_forward_features(img_tensor)\n",
    "print(img_features.shape)\n",
    "logits = resnet(img_tensor)\n",
    "logits = nn.Softmax(dim=1)(logits).data.squeeze()\n",
    "print(logits)"
   ],
   "metadata": {
    "collapsed": false,
    "ExecuteTime": {
     "end_time": "2024-03-27T07:33:12.878813Z",
     "start_time": "2024-03-27T07:33:12.819505Z"
    }
   },
   "id": "e568e8756660cd38"
  },
  {
   "cell_type": "code",
   "execution_count": 58,
   "outputs": [
    {
     "name": "stdout",
     "output_type": "stream",
     "text": [
      "tensor([1.0000e+00, 5.8666e-11, 5.8674e-12, 5.7193e-12, 4.0362e-13, 4.0247e-13,\n",
      "        2.7105e-14, 2.6622e-14, 1.8745e-17, 3.0357e-20])\n",
      "tensor([7, 0, 3, 8, 9, 1, 6, 2, 4, 5])\n"
     ]
    }
   ],
   "source": [
    "probs, idx = logits.sort(0, True)\n",
    "print(probs)\n",
    "print(idx)"
   ],
   "metadata": {
    "collapsed": false,
    "ExecuteTime": {
     "end_time": "2024-03-27T07:33:15.840897Z",
     "start_time": "2024-03-27T07:33:15.837390Z"
    }
   },
   "id": "b2d552d98f56433f"
  },
  {
   "cell_type": "code",
   "execution_count": 59,
   "outputs": [],
   "source": [
    "def returnCAM(feature_conv, weight_softmax, class_idx):\n",
    "    b, c, h, w = feature_conv.shape\n",
    "    output_cam = []\n",
    "    for idx in class_idx:\n",
    "        cam =weight_softmax[idx].dot(feature_conv.reshape((c, h*w)))\n",
    "        cam = cam.reshape((h, w))\n",
    "        cam_img = (cam - cam.min()) / (cam.max() - cam.min())\n",
    "        cam_img = np.array(255 * cam_img).astype(np.uint8)\n",
    "        output_cam.append(cam_img)\n",
    "    return output_cam"
   ],
   "metadata": {
    "collapsed": false,
    "ExecuteTime": {
     "end_time": "2024-03-27T07:33:18.315907Z",
     "start_time": "2024-03-27T07:33:18.308212Z"
    }
   },
   "id": "dae303e343a5aa3e"
  },
  {
   "cell_type": "code",
   "execution_count": 60,
   "outputs": [
    {
     "name": "stderr",
     "output_type": "stream",
     "text": [
      "/var/folders/3x/cttyv8yj0b32_gvcpjqry6hw0000gn/T/ipykernel_48794/3725325102.py:7: RuntimeWarning: invalid value encountered in divide\n",
      "  cam_img = (cam - cam.min()) / (cam.max() - cam.min())\n",
      "/var/folders/3x/cttyv8yj0b32_gvcpjqry6hw0000gn/T/ipykernel_48794/3725325102.py:8: RuntimeWarning: invalid value encountered in cast\n",
      "  cam_img = np.array(255 * cam_img).astype(np.uint8)\n"
     ]
    }
   ],
   "source": [
    "img_features = img_features.detach().numpy()\n",
    "CAMs = returnCAM(img_features, fc_weights, [idx[0]])"
   ],
   "metadata": {
    "collapsed": false,
    "ExecuteTime": {
     "end_time": "2024-03-27T07:33:20.812849Z",
     "start_time": "2024-03-27T07:33:20.804773Z"
    }
   },
   "id": "2edd3bc5e7cffc2f"
  }
 ],
 "metadata": {
  "kernelspec": {
   "display_name": "Python 3",
   "language": "python",
   "name": "python3"
  },
  "language_info": {
   "codemirror_mode": {
    "name": "ipython",
    "version": 2
   },
   "file_extension": ".py",
   "mimetype": "text/x-python",
   "name": "python",
   "nbconvert_exporter": "python",
   "pygments_lexer": "ipython2",
   "version": "2.7.6"
  }
 },
 "nbformat": 4,
 "nbformat_minor": 5
}
